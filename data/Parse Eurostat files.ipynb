{
 "cells": [
  {
   "cell_type": "code",
   "execution_count": 31,
   "metadata": {},
   "outputs": [],
   "source": [
    "import pandas as pd\n",
    "\n",
    "pop_df = pd.read_csv(\"urb_cpop1.csv\", header=8, index_col=\"CITIES/TIME\").dropna(axis=0)\n",
    "\n",
    "cycle_df = pd.read_csv(\"urb_ctran.csv\", header=8, index_col=\"CITIES/TIME\").dropna(axis=0)\n"
   ]
  },
  {
   "cell_type": "code",
   "execution_count": 32,
   "metadata": {},
   "outputs": [],
   "source": [
    "pop_df = pop_df.unstack().reset_index()\n",
    "\n",
    "cycle_df = cycle_df.unstack().reset_index()"
   ]
  },
  {
   "cell_type": "code",
   "execution_count": 37,
   "metadata": {},
   "outputs": [],
   "source": [
    "pop_df.rename(columns={'level_0': 'year', 'CITIES/TIME': 'city', '0': 'pop'}, inplace=True)"
   ]
  },
  {
   "cell_type": "code",
   "execution_count": 39,
   "metadata": {},
   "outputs": [],
   "source": [
    "cycle_df.rename(columns={'level_0': 'year', 'CITIES/TIME': 'city', '0': 'share_cycle'}, inplace=True)"
   ]
  },
  {
   "cell_type": "code",
   "execution_count": 41,
   "metadata": {},
   "outputs": [],
   "source": [
    "df = pd.merge(cycle_df, pop_df,  how='left', left_on=['year','city'], right_on = ['year','city'])"
   ]
  },
  {
   "cell_type": "code",
   "execution_count": 43,
   "metadata": {},
   "outputs": [],
   "source": [
    "df.rename(columns={'0_x': 'share_cycle', '0_y': 'pop'}, inplace=True)"
   ]
  },
  {
   "cell_type": "code",
   "execution_count": 46,
   "metadata": {},
   "outputs": [],
   "source": [
    "import numpy as np\n",
    "\n",
    "df.replace(':',np.NaN, inplace=True)"
   ]
  },
  {
   "cell_type": "code",
   "execution_count": 49,
   "metadata": {},
   "outputs": [],
   "source": [
    "df.dropna(axis=0, inplace=True)"
   ]
  },
  {
   "cell_type": "code",
   "execution_count": null,
   "metadata": {},
   "outputs": [],
   "source": [
    "df[\"pop\"] = df[\"pop\"].str.replace(',','')\n",
    "df[\"pop\"] = pd.to_numeric(df[\"pop\"])\n",
    "df[\"share_cycle\"] = pd.to_numeric(df[\"share_cycle\"])\n",
    "\n",
    "df[\"daily_rides\"] = df[\"share_cycle\"] / 100 * df[\"pop\"]"
   ]
  },
  {
   "cell_type": "code",
   "execution_count": 74,
   "metadata": {},
   "outputs": [],
   "source": [
    "df.to_csv(\"data.csv\")"
   ]
  }
 ],
 "metadata": {
  "kernelspec": {
   "display_name": "Python 3",
   "language": "python",
   "name": "python3"
  },
  "language_info": {
   "codemirror_mode": {
    "name": "ipython",
    "version": 3
   },
   "file_extension": ".py",
   "mimetype": "text/x-python",
   "name": "python",
   "nbconvert_exporter": "python",
   "pygments_lexer": "ipython3",
   "version": "3.5.2"
  }
 },
 "nbformat": 4,
 "nbformat_minor": 2
}
